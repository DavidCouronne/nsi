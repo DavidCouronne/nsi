{
  "nbformat": 4,
  "nbformat_minor": 0,
  "metadata": {
    "colab": {
      "name": "Python_TP_Bases.ipynb",
      "provenance": [],
      "authorship_tag": "ABX9TyPz/J0+OjTCwURoytCCOJ1C"
    },
    "kernelspec": {
      "name": "python3",
      "display_name": "Python 3"
    }
  },
  "cells": [
    {
      "cell_type": "markdown",
      "metadata": {
        "id": "OcnEbOiJFy6g"
      },
      "source": [
        "# TP Bases de Python"
      ]
    },
    {
      "cell_type": "markdown",
      "metadata": {
        "id": "vimqlUoaF5KS"
      },
      "source": [
        "## Expressions de base"
      ]
    },
    {
      "cell_type": "markdown",
      "metadata": {
        "id": "EGb2P-kHF8mD"
      },
      "source": [
        "Stocker deux nombres dans deux variables, calculer la moyenne des deux, que vous stockerez dans une troisième variable"
      ]
    },
    {
      "cell_type": "code",
      "metadata": {
        "id": "1eyYsoaZFs8P"
      },
      "source": [
        ""
      ],
      "execution_count": null,
      "outputs": []
    },
    {
      "cell_type": "markdown",
      "metadata": {
        "id": "VSGBAKc9GNjy"
      },
      "source": [
        "Transformez votre code précédent en une fonction qui prend deux variables numériques en paramètre, et renvoie leur moyenne."
      ]
    },
    {
      "cell_type": "code",
      "metadata": {
        "id": "T7MkX_QdGZfu"
      },
      "source": [
        ""
      ],
      "execution_count": null,
      "outputs": []
    },
    {
      "cell_type": "markdown",
      "metadata": {
        "id": "A_XJe4WXMsn2"
      },
      "source": [
        ""
      ]
    },
    {
      "cell_type": "markdown",
      "metadata": {
        "id": "axMULkwqGbQx"
      },
      "source": [
        "Ecreivez une fonction qui prend un prix hors taxe, et renvoie le prix TTC. On supposera le taux de TVA à 20,6%"
      ]
    },
    {
      "cell_type": "code",
      "metadata": {
        "id": "42yGYAxPGjOF"
      },
      "source": [
        ""
      ],
      "execution_count": null,
      "outputs": []
    },
    {
      "cell_type": "markdown",
      "metadata": {
        "id": "5do488A5GkKx"
      },
      "source": [
        "Modifiez cette fonction pour que le taux de TVA soit aussi un paramètre, avec une valeur par défaut de 20,6%"
      ]
    },
    {
      "cell_type": "code",
      "metadata": {
        "id": "REEsNjmrGsek"
      },
      "source": [
        ""
      ],
      "execution_count": null,
      "outputs": []
    },
    {
      "cell_type": "markdown",
      "metadata": {
        "id": "0KeuAUFzGuQK"
      },
      "source": [
        "Dans le code ci-dessous, la variable *utilisateur* contient le \"prénom nom\" d'une personne.\n",
        "\n",
        "1- Modifiez cette variable avec votre nom prénom.\n",
        "\n",
        "2- Utilisez la fonction *split* pour découper cette chaine de caractères et stockez le nom et le prénom dans deux variables différentes. (Google est votre ami pour l'utilisation de *split* !)\n",
        "\n",
        "3- Passez votre nom en majuscules (en utilisant une fonction de la librairie Python. Google...)"
      ]
    },
    {
      "cell_type": "code",
      "metadata": {
        "id": "DkOfNdoAHni4"
      },
      "source": [
        "utilisateur = \"Alan Turing\""
      ],
      "execution_count": null,
      "outputs": []
    },
    {
      "cell_type": "markdown",
      "metadata": {
        "id": "8avyS3QHHoGX"
      },
      "source": [
        "Transformez votre code en une fonction qui prend en entrée une chaine type \"prénom nom\", la découpe en deux, et renvoie deux chaines, l'une pour le prénom et l'autre pour le nom en majuscule."
      ]
    },
    {
      "cell_type": "code",
      "metadata": {
        "id": "rJqrs1MrIIwc"
      },
      "source": [
        ""
      ],
      "execution_count": null,
      "outputs": []
    },
    {
      "cell_type": "markdown",
      "metadata": {
        "id": "9ltIOkflIJn3"
      },
      "source": [
        "## Utiliser List, Set et Dict"
      ]
    },
    {
      "cell_type": "markdown",
      "metadata": {
        "id": "PL23DGduIOKw"
      },
      "source": [
        "Faire une liste de nombres au hasard."
      ]
    },
    {
      "cell_type": "code",
      "metadata": {
        "id": "ej4tTL6UINGy"
      },
      "source": [
        ""
      ],
      "execution_count": null,
      "outputs": []
    },
    {
      "cell_type": "markdown",
      "metadata": {
        "id": "YQrTUjDeIWdG"
      },
      "source": [
        "Ecrivez une fonction qui découvre le minimum de ces nombres."
      ]
    },
    {
      "cell_type": "code",
      "metadata": {
        "id": "evz4A8lDIgHh"
      },
      "source": [
        ""
      ],
      "execution_count": null,
      "outputs": []
    },
    {
      "cell_type": "markdown",
      "metadata": {
        "id": "9gkehyqSIhNG"
      },
      "source": [
        "Enregistrez la liste dans un Set. Si la liste contenait des doublons, que peut-on constater au niveau du Set ?"
      ]
    },
    {
      "cell_type": "code",
      "metadata": {
        "id": "FklMiS4AIr4i"
      },
      "source": [
        ""
      ],
      "execution_count": null,
      "outputs": []
    },
    {
      "cell_type": "markdown",
      "metadata": {
        "id": "a3Eg_oZWItlu"
      },
      "source": [
        "Faire une nouvelle fonction *trouveDoublons* qui renvoie toutes les valeurs en double dans la liste originale sous forme de set.\n",
        "\n",
        "Par exemple: trouveDoublons([2, 5, 6, 2, 7, 12, 6, 42, 2]) doit renvoyer {2,6} (ou {6,2} le set étant non ordonné)"
      ]
    },
    {
      "cell_type": "code",
      "metadata": {
        "id": "3xgrAyfdJRSQ"
      },
      "source": [
        ""
      ],
      "execution_count": null,
      "outputs": []
    },
    {
      "cell_type": "markdown",
      "metadata": {
        "id": "WyoYqFZKJYmt"
      },
      "source": [
        "On suppose que l'on a une liste de tuples [('Jules', 1); ('Priscilla', 5), ('Jules, 3), ...] où le premier élément du tuple est le nom d'un client, et le deuxième élément est la somme qu'il doit. Ecrivez une fonction prenant cette liste en entrée, et renvoyant un dictionnaire dont les clés sont les noms des clients, et les valeurs la somme totale dûe par le client correspondant."
      ]
    },
    {
      "cell_type": "code",
      "metadata": {
        "id": "loVIEx3MJ8GP"
      },
      "source": [
        ""
      ],
      "execution_count": null,
      "outputs": []
    },
    {
      "cell_type": "markdown",
      "metadata": {
        "id": "O1iGoSMDJ8nj"
      },
      "source": [
        "Ecrivez une double bloucle qui affiche:\n",
        "\n",
        "+\n",
        "\n",
        "++\n",
        "\n",
        "+++\n",
        "\n",
        "++++\n",
        "\n",
        "+++++\n",
        "\n",
        "++++++\n",
        "\n",
        "+++++++\n",
        "\n",
        "++++++++\n"
      ]
    },
    {
      "cell_type": "code",
      "metadata": {
        "id": "KF6QxJS2KGsv"
      },
      "source": [
        ""
      ],
      "execution_count": null,
      "outputs": []
    },
    {
      "cell_type": "markdown",
      "metadata": {
        "id": "1McANmFFKRVL"
      },
      "source": [
        "## Listes en compréhension"
      ]
    },
    {
      "cell_type": "markdown",
      "metadata": {
        "id": "wntUNIk5KVQV"
      },
      "source": [
        "Ecrivez des compréhension de liste pour:"
      ]
    },
    {
      "cell_type": "markdown",
      "metadata": {
        "id": "nJYCxTIGKayb"
      },
      "source": [
        "Garder uniquement les valeurs positives d'une liste de nombres."
      ]
    },
    {
      "cell_type": "code",
      "metadata": {
        "id": "uF7lNUqkKTx4"
      },
      "source": [
        ""
      ],
      "execution_count": null,
      "outputs": []
    },
    {
      "cell_type": "markdown",
      "metadata": {
        "id": "8NZX8q3MKg3C"
      },
      "source": [
        "Garder uniquement les chaînes contenant une sous-chaîne données dans une liste de chaînes."
      ]
    },
    {
      "cell_type": "code",
      "metadata": {
        "id": "uxxc_cN8KpVX"
      },
      "source": [
        ""
      ],
      "execution_count": null,
      "outputs": []
    },
    {
      "cell_type": "markdown",
      "metadata": {
        "id": "tRZ2D6GQKqEm"
      },
      "source": [
        "Renvoyer la liste des nombres au carré d'une liste de nombres"
      ]
    },
    {
      "cell_type": "code",
      "metadata": {
        "id": "IhRuGRRrKv_P"
      },
      "source": [
        ""
      ],
      "execution_count": null,
      "outputs": []
    },
    {
      "cell_type": "markdown",
      "metadata": {
        "id": "RdK2BJG_Kw8X"
      },
      "source": [
        "Renvoyer la liste des chaînes en minuscules d'une liste de chaînes de caractères"
      ]
    },
    {
      "cell_type": "code",
      "metadata": {
        "id": "zwzOeCSxK38O"
      },
      "source": [
        ""
      ],
      "execution_count": null,
      "outputs": []
    },
    {
      "cell_type": "markdown",
      "metadata": {
        "id": "IV6eD6_bK_qK"
      },
      "source": [
        "Renvoyer, pour une liste de mots, uniquement les consonnes de chaque mot."
      ]
    },
    {
      "cell_type": "code",
      "metadata": {
        "id": "-2UgmolbLFmn"
      },
      "source": [
        ""
      ],
      "execution_count": null,
      "outputs": []
    }
  ]
}