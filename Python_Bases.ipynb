{
  "nbformat": 4,
  "nbformat_minor": 0,
  "metadata": {
    "colab": {
      "name": "Python_Bases.ipynb",
      "provenance": [],
      "collapsed_sections": [],
      "include_colab_link": true
    },
    "kernelspec": {
      "name": "python3",
      "display_name": "Python 3"
    }
  },
  "cells": [
    {
      "cell_type": "markdown",
      "metadata": {
        "id": "view-in-github",
        "colab_type": "text"
      },
      "source": [
        "<a href=\"https://colab.research.google.com/github/DavidCouronne/nsi/blob/master/Python_Bases.ipynb\" target=\"_parent\"><img src=\"https://colab.research.google.com/assets/colab-badge.svg\" alt=\"Open In Colab\"/></a>"
      ]
    },
    {
      "cell_type": "markdown",
      "metadata": {
        "id": "mQAdeGHuLt_t"
      },
      "source": [
        "# Les Bases de Python"
      ]
    },
    {
      "cell_type": "markdown",
      "metadata": {
        "id": "NiCYIWJbLfV5"
      },
      "source": [
        "## Les types de variables"
      ]
    },
    {
      "cell_type": "markdown",
      "metadata": {
        "id": "q0hvjPmlHgQJ"
      },
      "source": [
        "### Typage dynamique et typage fort\n",
        "\n",
        "+ Python est un langage interprété qui a un typage dynamique.\n",
        "+ Autrement dit: on n'est pas obligé de déclarer le type de variable avant de la créer.\n",
        "+ On peut connaître le type d'une d'une variable avec la fonction **type()**.\n",
        "+ En fait, on peut connaître le type de n'importe quoi avec **type()**.\n",
        "\n",
        "Exemples:"
      ]
    },
    {
      "cell_type": "code",
      "metadata": {
        "id": "QIgPT7hfIMVN"
      },
      "source": [
        "a = 2\n",
        "type(a)"
      ],
      "execution_count": null,
      "outputs": []
    },
    {
      "cell_type": "code",
      "metadata": {
        "id": "D-b3BCYmIgK-"
      },
      "source": [
        "b = 3.7\n",
        "type(b)"
      ],
      "execution_count": null,
      "outputs": []
    },
    {
      "cell_type": "code",
      "metadata": {
        "id": "c6Yb_SSaIjgV"
      },
      "source": [
        "c = \"bonjour\"\n",
        "type(c)"
      ],
      "execution_count": null,
      "outputs": []
    },
    {
      "cell_type": "code",
      "metadata": {
        "id": "4juu9At7I1MV"
      },
      "source": [
        "a + c"
      ],
      "execution_count": null,
      "outputs": []
    },
    {
      "cell_type": "markdown",
      "metadata": {
        "id": "C0gsmh2tI5DS"
      },
      "source": [
        "Pour Python, même si le typage est dynamique, c'est un typage fort. Hormis pour les nombres, il est impossible de manipuler des variables de types différents sans précautions !\n",
        "\n",
        "### Les dangers des flottants (float)\n",
        "\n",
        "Exemple:"
      ]
    },
    {
      "cell_type": "code",
      "metadata": {
        "id": "uOd_HVyOJPaW"
      },
      "source": [
        "2.2 + 0.1"
      ],
      "execution_count": null,
      "outputs": []
    },
    {
      "cell_type": "code",
      "metadata": {
        "id": "RgmshBlqJytE"
      },
      "source": [
        "round(2.675,2)"
      ],
      "execution_count": null,
      "outputs": []
    },
    {
      "cell_type": "markdown",
      "metadata": {
        "id": "1MfbRaO6Jd35"
      },
      "source": [
        "+ Le problème ne vient pas de Python, mais de la représentation des flottants dans les processeurs de ordinateurs.\n",
        "+ Python n'effectue pas les calculs lui-même: il envoie tout au processeur sous forme binaire.\n",
        "+ Le nombre décimal 0,1 admet un \"développement décimal\" binaire infini, qui est donc arrondi au moment de la conversion, puis de nouveau arrondi après calcul.\n",
        "+ Pour 2,675 c'est un peu le même principe: au moment de la conversion binaire, ça donne 2,6749999... qui est bien arrondi à 2,67.\n",
        "+ On peut tester avec le module decimal:"
      ]
    },
    {
      "cell_type": "code",
      "metadata": {
        "id": "5ns8itbnJ9BU"
      },
      "source": [
        "from decimal import Decimal\n",
        "Decimal(2.675)"
      ],
      "execution_count": null,
      "outputs": []
    },
    {
      "cell_type": "markdown",
      "metadata": {
        "id": "HNqSw-cRL7jb"
      },
      "source": [
        "### Conversions entre types\n",
        "\n",
        "Exemples:"
      ]
    },
    {
      "cell_type": "code",
      "metadata": {
        "id": "9VXTo0YpMAMi"
      },
      "source": [
        "a=2\n",
        "b=str(a)\n",
        "type(b)"
      ],
      "execution_count": null,
      "outputs": []
    },
    {
      "cell_type": "code",
      "metadata": {
        "id": "oaOgy6zcMExM"
      },
      "source": [
        "c=\"21\"\n",
        "d=int(c)\n",
        "type(d)"
      ],
      "execution_count": null,
      "outputs": []
    },
    {
      "cell_type": "code",
      "metadata": {
        "id": "LHCd2nsJMJQq"
      },
      "source": [
        "e=\"bonjour\"\n",
        "f=int(e)"
      ],
      "execution_count": null,
      "outputs": []
    },
    {
      "cell_type": "code",
      "metadata": {
        "id": "tLrHj79VMOjS"
      },
      "source": [
        "int(-2.9)"
      ],
      "execution_count": null,
      "outputs": []
    },
    {
      "cell_type": "markdown",
      "metadata": {
        "id": "i1u3jKTSMTb3"
      },
      "source": [
        "Remarque: la fonction **int()** donne la troncature du nombre, pas la partie entière !"
      ]
    },
    {
      "cell_type": "markdown",
      "metadata": {
        "id": "rCcivORdD5js"
      },
      "source": [
        "## Affectations de variables"
      ]
    },
    {
      "cell_type": "code",
      "metadata": {
        "id": "H_mG4nB_EPcH"
      },
      "source": [
        "a, b = 1, 2"
      ],
      "execution_count": null,
      "outputs": []
    },
    {
      "cell_type": "code",
      "metadata": {
        "id": "zX_BRebUETQn"
      },
      "source": [
        "a"
      ],
      "execution_count": null,
      "outputs": []
    },
    {
      "cell_type": "code",
      "metadata": {
        "id": "AaaGNaWcEVpB"
      },
      "source": [
        "b"
      ],
      "execution_count": null,
      "outputs": []
    },
    {
      "cell_type": "code",
      "metadata": {
        "id": "n0c0pr1iEgYQ"
      },
      "source": [
        "c = d = 7"
      ],
      "execution_count": null,
      "outputs": []
    },
    {
      "cell_type": "code",
      "metadata": {
        "id": "DJs_1Yw8Eucy"
      },
      "source": [
        "c"
      ],
      "execution_count": null,
      "outputs": []
    },
    {
      "cell_type": "code",
      "metadata": {
        "id": "6r7YoOJTExSQ"
      },
      "source": [
        "d"
      ],
      "execution_count": null,
      "outputs": []
    },
    {
      "cell_type": "markdown",
      "metadata": {
        "id": "RABh6xXIMg5d"
      },
      "source": [
        "## Les modules"
      ]
    },
    {
      "cell_type": "markdown",
      "metadata": {
        "id": "nYHR3JP3MlSo"
      },
      "source": [
        "### Que contient un module ?\n",
        "\n",
        "Par exemple, calculer $\\sqrt{2}$ avec Python:"
      ]
    },
    {
      "cell_type": "code",
      "metadata": {
        "id": "fwh_CHp5M2_j"
      },
      "source": [
        "from math import sqrt\n",
        "sqrt(2)"
      ],
      "execution_count": null,
      "outputs": []
    },
    {
      "cell_type": "markdown",
      "metadata": {
        "id": "rrDav2ZTNEhN"
      },
      "source": [
        "Que contient exactement le module math ?\n",
        "\n",
        "On va faire une importation brute du module math, et utiliser la commande **dir()**"
      ]
    },
    {
      "cell_type": "code",
      "metadata": {
        "id": "ZD7GipLkNM6n"
      },
      "source": [
        "import math\n",
        "dir(math)"
      ],
      "execution_count": null,
      "outputs": []
    },
    {
      "cell_type": "markdown",
      "metadata": {
        "id": "RybzLgwdNfT6"
      },
      "source": [
        "On y voit un peu plus clair...\n",
        "Certains noms de commandes parlent d'eux-mêmes, pour les autres on peut se référer à la documentation officielle: [Documentation module math](https://docs.python.org/3/library/math.html)"
      ]
    },
    {
      "cell_type": "code",
      "metadata": {
        "id": "Kmk4pQYoN4VF"
      },
      "source": [
        "math.pi"
      ],
      "execution_count": null,
      "outputs": []
    },
    {
      "cell_type": "code",
      "metadata": {
        "id": "9C4_6RhKOBK1"
      },
      "source": [
        "math.pi = 10\n",
        "math.pi"
      ],
      "execution_count": null,
      "outputs": []
    },
    {
      "cell_type": "markdown",
      "metadata": {
        "id": "qy80c8WqOJma"
      },
      "source": [
        "Remarque: Les variables et fonctions des modules ne sont pas protégées. Il est donc utile de connaître leur contenu pour éviter les mauvaises manipulations."
      ]
    },
    {
      "cell_type": "markdown",
      "metadata": {
        "id": "A9MF8yHEFBAr"
      },
      "source": [
        "## Affichage\n",
        "\n",
        "On utilisera principalement la fonction *print()* pour afficher des résultats à l'écran."
      ]
    },
    {
      "cell_type": "code",
      "metadata": {
        "id": "ohzCVfkrFSMt"
      },
      "source": [
        "print('Bonjour NSI !!!')"
      ],
      "execution_count": null,
      "outputs": []
    },
    {
      "cell_type": "code",
      "metadata": {
        "id": "IA0uoFXkFWFY"
      },
      "source": [
        "x = 4\n",
        "print(x)"
      ],
      "execution_count": null,
      "outputs": []
    },
    {
      "cell_type": "code",
      "metadata": {
        "id": "YBhqon0rFZfw"
      },
      "source": [
        "print('x=', x)"
      ],
      "execution_count": null,
      "outputs": []
    },
    {
      "cell_type": "code",
      "metadata": {
        "id": "QU096rtrFddQ"
      },
      "source": [
        "y = 7\n",
        "print(f'La valeur de x est {x} et la valeur de y est {y}')"
      ],
      "execution_count": null,
      "outputs": []
    },
    {
      "cell_type": "markdown",
      "metadata": {
        "id": "RMAwgPYRF3qK"
      },
      "source": [
        "## Structures de données simples"
      ]
    },
    {
      "cell_type": "code",
      "metadata": {
        "id": "Gp5dy8E1F8fA"
      },
      "source": [
        ""
      ],
      "execution_count": null,
      "outputs": []
    },
    {
      "cell_type": "markdown",
      "metadata": {
        "id": "hPgfPNzuF9IJ"
      },
      "source": [
        "### Tuple\n",
        "\n",
        "Un tuple est une liste d'éléments potentiellement hétérogènes. \n",
        "\n",
        "En général, la position des éléments a une signification pour celui qui écrit le programme.\n",
        "\n",
        "Un tuple est **non-mutable**"
      ]
    },
    {
      "cell_type": "code",
      "metadata": {
        "id": "43ApFR0ZGHKl"
      },
      "source": [
        ""
      ],
      "execution_count": null,
      "outputs": []
    },
    {
      "cell_type": "markdown",
      "metadata": {
        "id": "-jT3TpL4GIIR"
      },
      "source": [
        "Exemple 1 : coordonnées GPS. Ici le tuple contient des éléments homogènes qui ensemble représentent une coordonnée dans un plan."
      ]
    },
    {
      "cell_type": "code",
      "metadata": {
        "id": "ZZl2DIZHGI93"
      },
      "source": [
        "coord_gps = (48.1155, -1.6385)\n",
        "coord_gps "
      ],
      "execution_count": null,
      "outputs": []
    },
    {
      "cell_type": "markdown",
      "metadata": {
        "id": "e_xzlFcxGQQq"
      },
      "source": [
        "Accès aux coordonnées dans le tuple"
      ]
    },
    {
      "cell_type": "code",
      "metadata": {
        "id": "XDMBnCX0GNVK"
      },
      "source": [
        "coord_gps[0] # 1ère coordonnée = latitude (par convention)"
      ],
      "execution_count": null,
      "outputs": []
    },
    {
      "cell_type": "code",
      "metadata": {
        "id": "lZXGT9gwGUaZ"
      },
      "source": [
        "coord_gps[1] # 2ème coordonnée = longitude (par convention)"
      ],
      "execution_count": null,
      "outputs": []
    },
    {
      "cell_type": "code",
      "metadata": {
        "id": "RARj1K54GXeh"
      },
      "source": [
        "coord_gps"
      ],
      "execution_count": null,
      "outputs": []
    },
    {
      "cell_type": "markdown",
      "metadata": {
        "id": "B5XyVeXnGdux"
      },
      "source": [
        "On peut \"ouvrir\" le tuple et en sortir les éléments (unpack en anglais)"
      ]
    },
    {
      "cell_type": "code",
      "metadata": {
        "id": "z0ETfdSHGqpL"
      },
      "source": [
        "lat, long = coord_gps\n",
        "print(f\"Latitude: {lat}, longitude: {long}\")"
      ],
      "execution_count": null,
      "outputs": []
    },
    {
      "cell_type": "markdown",
      "metadata": {
        "id": "KhcHNbMYGuJK"
      },
      "source": [
        "Attention : on ne peut pas modifier un tuple ! (il n'est pas **mutable**)"
      ]
    },
    {
      "cell_type": "code",
      "metadata": {
        "id": "Iezv0wtlG0iu"
      },
      "source": [
        "coord_gps[0] = 0"
      ],
      "execution_count": null,
      "outputs": []
    },
    {
      "cell_type": "markdown",
      "metadata": {
        "id": "NfTzGKEkHAp7"
      },
      "source": [
        "Si on veut changer il faut faire :"
      ]
    },
    {
      "cell_type": "code",
      "metadata": {
        "id": "70FcaAYtHCL1"
      },
      "source": [
        "coord_gps = (0, coord_gps[1])\n",
        "coord_gps"
      ],
      "execution_count": null,
      "outputs": []
    },
    {
      "cell_type": "markdown",
      "metadata": {
        "id": "a0mifjOZI08k"
      },
      "source": [
        "Exemple 2 : infos sur des personnes, les tuples sont hétérogènes"
      ]
    },
    {
      "cell_type": "code",
      "metadata": {
        "id": "1lvhWAtjI4IG"
      },
      "source": [
        "personne1 = (\"DUPONT\", \"Jean\", 41, True)\n",
        "personne2 = (\"PETIT\", \"Isabelle\", 35, False)"
      ],
      "execution_count": null,
      "outputs": []
    },
    {
      "cell_type": "markdown",
      "metadata": {
        "id": "lJ7DvA7FI8S8"
      },
      "source": [
        "On a fixé une convention (NOM, prénom, âge, sexe) : les personnes ont toutes la même structure, ce qui facilite leur gestion"
      ]
    },
    {
      "cell_type": "code",
      "metadata": {
        "id": "2vGyvzD9JAA2"
      },
      "source": [
        "print(f\"Noms: {personne1[0]}, {personne2[0]}\")\n",
        "print(f\"Ages: {personne1[2]}, {personne2[2]}\")"
      ],
      "execution_count": null,
      "outputs": []
    },
    {
      "cell_type": "markdown",
      "metadata": {
        "id": "hN1MGBHRJUeT"
      },
      "source": [
        "Ressource sur les tuples\n",
        "  * https://hackernoon.com/python-basics-9-tuples-tuple-manipulation-and-the-fibonacci-sequence-2d0da4e2d326"
      ]
    },
    {
      "cell_type": "markdown",
      "metadata": {
        "id": "JHEQTgZVJcFK"
      },
      "source": [
        " ### Liste\n",
        " Une liste est une séquence ordonnée d'éléments potentiellement hétérogènes.\n",
        "\n",
        " Une liste est **mutable** !"
      ]
    },
    {
      "cell_type": "code",
      "metadata": {
        "id": "ZszKRIVwJdB4"
      },
      "source": [
        "lstTailles = [165, 189, 150, 200]\n",
        "lstPrenoms = ['Jérémie', 'Jacques', 'Juliette', 'Judith']\n",
        "lstBazar = [42, 'Bleu', False, [1, 2, 3], ('un', 'one')]\n",
        "print(f\"{lstTailles}\\n{lstPrenoms}\\n{lstBazar}\") # \\n = saut de ligne"
      ],
      "execution_count": null,
      "outputs": []
    },
    {
      "cell_type": "code",
      "metadata": {
        "id": "oW0d5S8sJv24"
      },
      "source": [
        "type(lstBazar)"
      ],
      "execution_count": null,
      "outputs": []
    },
    {
      "cell_type": "code",
      "metadata": {
        "id": "PAU2vF4BJwk1"
      },
      "source": [
        "type(lstBazar[0])"
      ],
      "execution_count": null,
      "outputs": []
    },
    {
      "cell_type": "markdown",
      "metadata": {
        "id": "6L5BvO9kJ21E"
      },
      "source": [
        " Accès aux éléments d'une liste"
      ]
    },
    {
      "cell_type": "code",
      "metadata": {
        "id": "YBRzTJ6XJ3fH"
      },
      "source": [
        "lstPrenoms[0] # premier élément"
      ],
      "execution_count": null,
      "outputs": []
    },
    {
      "cell_type": "code",
      "metadata": {
        "id": "gBw9EG1FJ6XW"
      },
      "source": [
        "lstPrenoms[3] # quatrième élément"
      ],
      "execution_count": null,
      "outputs": []
    },
    {
      "cell_type": "code",
      "metadata": {
        "id": "Tc9aoVotKDAt"
      },
      "source": [
        "len(lstPrenoms)"
      ],
      "execution_count": null,
      "outputs": []
    },
    {
      "cell_type": "code",
      "metadata": {
        "id": "dEmOPqsbKHJj"
      },
      "source": [
        "lstPrenoms[-1] # dernier élément"
      ],
      "execution_count": null,
      "outputs": []
    },
    {
      "cell_type": "code",
      "metadata": {
        "id": "OaQ3hoayKMaz"
      },
      "source": [
        "lstPrenoms[-2]"
      ],
      "execution_count": null,
      "outputs": []
    },
    {
      "cell_type": "markdown",
      "metadata": {
        "id": "GNY4tP8oKZ4l"
      },
      "source": [
        "Notion de \"tranche\" (slice en anglais): lst[x:y] donne la sous-liste contenant les éléments d'indice x à y-1 compris."
      ]
    },
    {
      "cell_type": "code",
      "metadata": {
        "id": "a8feUjTwKas4"
      },
      "source": [
        "lstPrenoms[1:3] # éléments d'indice 1 et 2"
      ],
      "execution_count": null,
      "outputs": []
    },
    {
      "cell_type": "code",
      "metadata": {
        "id": "FfahyzwvKdzN"
      },
      "source": [
        "lstPrenoms[0:2] # éléments d'indice 0 et 1"
      ],
      "execution_count": null,
      "outputs": []
    },
    {
      "cell_type": "code",
      "metadata": {
        "id": "jjG9s-UdKgQ9"
      },
      "source": [
        "lstPrenoms[:2] # éléments du début jusqu'à l'indice 2 exclus (idem précédent)"
      ],
      "execution_count": null,
      "outputs": []
    },
    {
      "cell_type": "code",
      "metadata": {
        "id": "pnFbWo3uKmj0"
      },
      "source": [
        "lstPrenoms[2:] # éléments d'indice 2 jusqu'à la fin"
      ],
      "execution_count": null,
      "outputs": []
    },
    {
      "cell_type": "code",
      "metadata": {
        "id": "oknFkeYKr0VN"
      },
      "source": [
        "lstPrenoms[:] # toute la liste"
      ],
      "execution_count": null,
      "outputs": []
    },
    {
      "cell_type": "code",
      "metadata": {
        "id": "QE0BXu36r1O8"
      },
      "source": [
        "id(lstPrenoms)"
      ],
      "execution_count": null,
      "outputs": []
    },
    {
      "cell_type": "code",
      "metadata": {
        "id": "VQZ9dL92r4US"
      },
      "source": [
        "lstPrenoms2 = lstPrenoms"
      ],
      "execution_count": null,
      "outputs": []
    },
    {
      "cell_type": "code",
      "metadata": {
        "id": "hl--JeY7r7cV"
      },
      "source": [
        "id(lstPrenoms2)"
      ],
      "execution_count": null,
      "outputs": []
    },
    {
      "cell_type": "code",
      "metadata": {
        "id": "D1hm0nDvsAc3"
      },
      "source": [
        "lstPrenoms[0] = \"Julien\""
      ],
      "execution_count": null,
      "outputs": []
    },
    {
      "cell_type": "code",
      "metadata": {
        "id": "GFSaVq9usBjx"
      },
      "source": [
        "lstPrenoms2"
      ],
      "execution_count": null,
      "outputs": []
    },
    {
      "cell_type": "code",
      "metadata": {
        "id": "c-WEehEZsEVa"
      },
      "source": [
        "lstPrenoms2[1] = 'Jiji'"
      ],
      "execution_count": null,
      "outputs": []
    },
    {
      "cell_type": "code",
      "metadata": {
        "id": "NG7ku_B8sHKf"
      },
      "source": [
        "lstPrenoms2"
      ],
      "execution_count": null,
      "outputs": []
    },
    {
      "cell_type": "code",
      "metadata": {
        "id": "FFJKc5XWsJ6H"
      },
      "source": [
        "lstPrenoms"
      ],
      "execution_count": null,
      "outputs": []
    },
    {
      "cell_type": "code",
      "metadata": {
        "id": "T9bd8ml2sMjg"
      },
      "source": [
        "lstPrenoms3 = lstPrenoms[:]"
      ],
      "execution_count": null,
      "outputs": []
    },
    {
      "cell_type": "code",
      "metadata": {
        "id": "ZYVaUNfesPni"
      },
      "source": [
        "id(lstPrenoms3)"
      ],
      "execution_count": null,
      "outputs": []
    },
    {
      "cell_type": "code",
      "metadata": {
        "id": "oZ4OymRbsSWB"
      },
      "source": [
        "lstPrenoms[0] = \"Jérémie\""
      ],
      "execution_count": null,
      "outputs": []
    },
    {
      "cell_type": "code",
      "metadata": {
        "id": "KTEs2FAzsU_e"
      },
      "source": [
        "lstPrenoms"
      ],
      "execution_count": null,
      "outputs": []
    },
    {
      "cell_type": "code",
      "metadata": {
        "id": "41rapFRHsYHx"
      },
      "source": [
        "lstPrenoms3"
      ],
      "execution_count": null,
      "outputs": []
    },
    {
      "cell_type": "code",
      "metadata": {
        "id": "JZQFhjSnskPS"
      },
      "source": [
        "lstPrenoms[-2:] # 2 derniers éléments (on commence à l'avant-dernier et on va à la fin)"
      ],
      "execution_count": null,
      "outputs": []
    },
    {
      "cell_type": "code",
      "metadata": {
        "id": "Thv5d9QWsk4p"
      },
      "source": [
        "lstPrenoms[:-2] # tout sauf les 2 derniers éléments (on commence au début et on s'arrête avant l'avant-dernier)"
      ],
      "execution_count": null,
      "outputs": []
    },
    {
      "cell_type": "markdown",
      "metadata": {
        "id": "LQr3azMcsoay"
      },
      "source": [
        "Encore plus fort: lst[x:y:s] prend un élément tous les s."
      ]
    },
    {
      "cell_type": "code",
      "metadata": {
        "id": "2oQ8vFensq-f"
      },
      "source": [
        "lstPrenoms[::2] # saute un prénom sur 2 en commençant au début"
      ],
      "execution_count": null,
      "outputs": []
    },
    {
      "cell_type": "code",
      "metadata": {
        "id": "vOvaosEUsurr"
      },
      "source": [
        "lstPrenoms[::-1] # tous les prénoms mais en sens inverse"
      ],
      "execution_count": null,
      "outputs": []
    },
    {
      "cell_type": "markdown",
      "metadata": {
        "id": "XwkddSA5s2WD"
      },
      "source": [
        " Un bon lien sur les slices : https://stackoverflow.com/questions/509211/understanding-slice-notation/509295#509295"
      ]
    },
    {
      "cell_type": "code",
      "metadata": {
        "id": "4RmCHJuAs3md"
      },
      "source": [
        "42 in lstBazar # chercher si un élément est dans une liste"
      ],
      "execution_count": null,
      "outputs": []
    },
    {
      "cell_type": "code",
      "metadata": {
        "id": "DOPed7DGs-KA"
      },
      "source": [
        "'Alexandre' in lstPrenoms"
      ],
      "execution_count": null,
      "outputs": []
    },
    {
      "cell_type": "code",
      "metadata": {
        "id": "1j0EgMmntCdb"
      },
      "source": [
        "lstTailles.append(217) # on peut ajouter des éléments à la liste\n",
        "lstTailles"
      ],
      "execution_count": null,
      "outputs": []
    },
    {
      "cell_type": "code",
      "metadata": {
        "id": "vUGl-nfatGMK"
      },
      "source": [
        "lstTailles.append(\"N'importe quoi\")\n",
        "lstTailles"
      ],
      "execution_count": null,
      "outputs": []
    },
    {
      "cell_type": "code",
      "metadata": {
        "id": "2S-YXPXbtJbf"
      },
      "source": [
        "lstX = [1,2] + [3,4]\n",
        "lstX"
      ],
      "execution_count": null,
      "outputs": []
    },
    {
      "cell_type": "code",
      "metadata": {
        "id": "8rYOovzvtTCE"
      },
      "source": [
        "help(list.append)"
      ],
      "execution_count": null,
      "outputs": []
    },
    {
      "cell_type": "code",
      "metadata": {
        "id": "Xny85cCttUah"
      },
      "source": [
        "dir(list)"
      ],
      "execution_count": null,
      "outputs": []
    },
    {
      "cell_type": "code",
      "metadata": {
        "id": "4RUbCFjvteFV"
      },
      "source": [
        "help(list.extend)"
      ],
      "execution_count": null,
      "outputs": []
    },
    {
      "cell_type": "code",
      "metadata": {
        "id": "Y12jstvqte5t"
      },
      "source": [
        "lstTailles.extend([8,9])\n",
        "lstTailles"
      ],
      "execution_count": null,
      "outputs": []
    },
    {
      "cell_type": "code",
      "metadata": {
        "id": "p_gEXqR4tnoa"
      },
      "source": [
        "lstTailles = [165, 189, 150, 200, 217,\"xxx\"] \n",
        "lstTailles.pop() # enlever le dernier élément (il est renvoyé)"
      ],
      "execution_count": null,
      "outputs": []
    },
    {
      "cell_type": "code",
      "metadata": {
        "id": "6v3xsKX8tsgW"
      },
      "source": [
        "lstTailles.sort() # tri (ordre croissant) de la liste\n",
        "lstTailles"
      ],
      "execution_count": null,
      "outputs": []
    },
    {
      "cell_type": "code",
      "metadata": {
        "id": "QqCaTNV2t1qb"
      },
      "source": [
        "lstPrenoms.sort()\n",
        "lstPrenoms"
      ],
      "execution_count": null,
      "outputs": []
    },
    {
      "cell_type": "markdown",
      "metadata": {
        "id": "0OY3cN_6t-z6"
      },
      "source": [
        "Liste 2D simples"
      ]
    },
    {
      "cell_type": "code",
      "metadata": {
        "id": "DjK-fBS0t2q6"
      },
      "source": [
        "lst2D_simple = [[1, 2, 3], [4, 5, 6], [7, 8, 9]]\n",
        "lst2D_simple"
      ],
      "execution_count": null,
      "outputs": []
    },
    {
      "cell_type": "markdown",
      "metadata": {
        "id": "eUATMYVGuN2T"
      },
      "source": [
        "Liste en compréhension"
      ]
    },
    {
      "cell_type": "code",
      "metadata": {
        "id": "4cvGNQcJuXXk"
      },
      "source": [
        "lst2D_grande = [[i+j*10 for i in range(10)] for j in range(10)]\n",
        "lst2D_grande"
      ],
      "execution_count": null,
      "outputs": []
    },
    {
      "cell_type": "markdown",
      "metadata": {
        "id": "jPDELh8XulAk"
      },
      "source": [
        "Exemples d'affichage"
      ]
    },
    {
      "cell_type": "code",
      "metadata": {
        "id": "vxFV2y_Hum6P"
      },
      "source": [
        "def afficheLst2D(lst):\n",
        "    \"\"\"Affiche une liste de liste\"\"\"\n",
        "    for ligne in lst:\n",
        "        for cellule in ligne:\n",
        "            print(\"{}\".format(cellule), end='\\t')\n",
        "        print(\"\\n\")\n",
        "afficheLst2D(lst2D_simple)\n",
        "afficheLst2D(lst2D_grande)"
      ],
      "execution_count": null,
      "outputs": []
    },
    {
      "cell_type": "code",
      "metadata": {
        "id": "NxusgVhYu46b"
      },
      "source": [
        "help(afficheLst2D)"
      ],
      "execution_count": null,
      "outputs": []
    },
    {
      "cell_type": "markdown",
      "metadata": {
        "id": "RrTut6nOvFV8"
      },
      "source": [
        "Accès et modification de liste 2D."
      ]
    },
    {
      "cell_type": "code",
      "metadata": {
        "id": "5z3aciGivISO"
      },
      "source": [
        "afficheLst2D(lst2D_simple)\n",
        "print(\"------------------\")\n",
        "lst2D_simple[0][0] = 100 # la liste est mutable (vu avant)\n",
        "afficheLst2D(lst2D_simple)"
      ],
      "execution_count": null,
      "outputs": []
    },
    {
      "cell_type": "code",
      "metadata": {
        "id": "ODJmz5ghvIn7"
      },
      "source": [
        "lst2D_simple[1] = [400, 500, 600] # ce n'est qu'une liste de liste : on peut remplacer des lignes entières\n",
        "afficheLst2D(lst2D_simple)"
      ],
      "execution_count": null,
      "outputs": []
    },
    {
      "cell_type": "markdown",
      "metadata": {
        "id": "bRDUKmZWvZEt"
      },
      "source": [
        " Ressources sur les listes\n",
        " * https://docs.python.org/3.7/tutorial/datastructures.html#more-on-lists"
      ]
    },
    {
      "cell_type": "markdown",
      "metadata": {
        "id": "fhu5rGX5vc6z"
      },
      "source": [
        " ### Ensemble (set)\n",
        " Le `set` est un ensemble non-ordonné d'éléments potentiellement hétérogènes.\n",
        "\n",
        "\n",
        " Comme un ensemble mathématique, il interdit les doublons.\n",
        "\n",
        "Les *set* sont **mutables** mais ils doivent être composés d'éléments **non mutables**. (On ne peut pas faire d'ensembles de listes par exemple...)"
      ]
    },
    {
      "cell_type": "code",
      "metadata": {
        "id": "9K54doUKvg3P"
      },
      "source": [
        "matieres1 = {'maths', 'maths', 'maths', 'physique', 'info', 'info'} # initialisation depuis une \"liste\"\n",
        "matieres1"
      ],
      "execution_count": null,
      "outputs": []
    },
    {
      "cell_type": "code",
      "metadata": {
        "id": "tvqhM06PwKXG"
      },
      "source": [
        "type(matieres1)"
      ],
      "execution_count": null,
      "outputs": []
    },
    {
      "cell_type": "code",
      "metadata": {
        "id": "YWst4uthwNQ2"
      },
      "source": [
        "matieres2 = set() # démarrage d'un set vide\n",
        "matieres2.add('français') # ajout d'un élément\n",
        "matieres2.add('philo') # ajout d'un élément\n",
        "matieres2.add('philo') # ajout d'un élément\n",
        "matieres2.add('français') # ajout d'un élément\n",
        "matieres2.add('anglais') # ajout d'un élément\n",
        "matieres2.add('info')\n",
        "matieres2"
      ],
      "execution_count": null,
      "outputs": []
    },
    {
      "cell_type": "code",
      "metadata": {
        "id": "IoY5GWQxwZu-"
      },
      "source": [
        "'info' in matieres1 # test d'appartenance"
      ],
      "execution_count": null,
      "outputs": []
    },
    {
      "cell_type": "code",
      "metadata": {
        "id": "4CK3gb4YweH0"
      },
      "source": [
        "'histoire géo' in matieres1 # test d'appartenance"
      ],
      "execution_count": null,
      "outputs": []
    },
    {
      "cell_type": "code",
      "metadata": {
        "id": "ghlB3hREwhTU"
      },
      "source": [
        "matieres1 & matieres2 # intersection (renvoie un set)"
      ],
      "execution_count": null,
      "outputs": []
    },
    {
      "cell_type": "code",
      "metadata": {
        "id": "p8KPR8Bgwk_8"
      },
      "source": [
        "matieres1 | matieres2 # union (renvoie un set)"
      ],
      "execution_count": null,
      "outputs": []
    },
    {
      "cell_type": "code",
      "metadata": {
        "id": "bWmkmui5wpfQ"
      },
      "source": [
        "matieres1 - matieres2 # différence (renvoie un set)"
      ],
      "execution_count": null,
      "outputs": []
    },
    {
      "cell_type": "code",
      "metadata": {
        "id": "FTUbD831wuwg"
      },
      "source": [
        "list(matieres2) # renvoie une list initialisée avec le contenu du set"
      ],
      "execution_count": null,
      "outputs": []
    },
    {
      "cell_type": "markdown",
      "metadata": {
        "id": "2pjjWrF0w05d"
      },
      "source": [
        "### Dictionnaire\n",
        " Un dictionnaire est un ensemble de paires clé-valeur. Les types des clés et des valeurs peuvent être hétérogènes.\n",
        "\n",
        " Les dictionnaires sont des objets **mutables**."
      ]
    },
    {
      "cell_type": "code",
      "metadata": {
        "id": "EAmLitl1w4mx"
      },
      "source": [
        "dicoAdresses = {'Nico':'Rennes', 'Jules': 'Cesson-Sévigné', 'Maël': ['Rennes', 'Lannion']}\n",
        "dicoAdresses"
      ],
      "execution_count": null,
      "outputs": []
    },
    {
      "cell_type": "code",
      "metadata": {
        "id": "fmfky5XQw9VC"
      },
      "source": [
        "dicoBizarre = {'Un':1, 42: False}\n",
        "dicoBizarre"
      ],
      "execution_count": null,
      "outputs": []
    },
    {
      "cell_type": "code",
      "metadata": {
        "id": "LU_90lDdxFFE"
      },
      "source": [
        "dicoAdresses['Nico']"
      ],
      "execution_count": null,
      "outputs": []
    },
    {
      "cell_type": "code",
      "metadata": {
        "id": "3O1I9Cw_xFzf"
      },
      "source": [
        "dicoAdresses['Maël']"
      ],
      "execution_count": null,
      "outputs": []
    },
    {
      "cell_type": "code",
      "metadata": {
        "id": "FoUxIeu8xO6q"
      },
      "source": [
        "dicoBizarre[42]"
      ],
      "execution_count": null,
      "outputs": []
    },
    {
      "cell_type": "code",
      "metadata": {
        "id": "6ni5b_wOxP2U"
      },
      "source": [
        "dicoBizarre[42] = True\n",
        "dicoBizarre[42]"
      ],
      "execution_count": null,
      "outputs": []
    },
    {
      "cell_type": "markdown",
      "metadata": {
        "id": "aCByqHrtxgzH"
      },
      "source": [
        " ## Itérations\n",
        " ### Boucle while (à l'ancienne)"
      ]
    },
    {
      "cell_type": "code",
      "metadata": {
        "id": "LJHk7i8fxhsB"
      },
      "source": [
        "i = 0 # initialisation\n",
        "while i<10: # test\n",
        "    print(\"i={}\".format(i))\n",
        "    i += 1 # incrémentation"
      ],
      "execution_count": null,
      "outputs": []
    },
    {
      "cell_type": "markdown",
      "metadata": {
        "id": "HvFoHSpbxlM9"
      },
      "source": [
        " ### Boucle for"
      ]
    },
    {
      "cell_type": "code",
      "metadata": {
        "id": "mOMhEEHExozh"
      },
      "source": [
        "for i in range(10): # range(10) = \"liste\" des nombres de 0 à 9 compris\n",
        "    print(f\"i={i}\")"
      ],
      "execution_count": null,
      "outputs": []
    },
    {
      "cell_type": "markdown",
      "metadata": {
        "id": "Xy5fCHWPx1Wn"
      },
      "source": [
        "La boucle for est très pratique car elle peut énumérer les éléments de listes, set ou dictionnaires.\n",
        "\n",
        "Plus généralement elle peut énumérer les éléments de tous les objets *itérables*."
      ]
    },
    {
      "cell_type": "code",
      "metadata": {
        "id": "dVGaX2W1xw6B"
      },
      "source": [
        "for prenom in ['Albert', 'Béatrice', 'Charles', 'Diane']:\n",
        "    print(prenom)"
      ],
      "execution_count": null,
      "outputs": []
    },
    {
      "cell_type": "code",
      "metadata": {
        "id": "-W3fJnCCyIoy"
      },
      "source": [
        "for nom, adresse in dicoAdresses.items():\n",
        "    print(f\"{nom} habite dans la(les) ville(s): {adresse}\")"
      ],
      "execution_count": null,
      "outputs": []
    },
    {
      "cell_type": "code",
      "metadata": {
        "id": "HMS3YfZdyTNX"
      },
      "source": [
        "dicoAdresses.items()"
      ],
      "execution_count": null,
      "outputs": []
    },
    {
      "cell_type": "code",
      "metadata": {
        "id": "LSac7SuRyT21"
      },
      "source": [
        "dicoAdresses.keys()"
      ],
      "execution_count": null,
      "outputs": []
    },
    {
      "cell_type": "code",
      "metadata": {
        "id": "zyTNKzLPyXbD"
      },
      "source": [
        "dicoAdresses.values()"
      ],
      "execution_count": null,
      "outputs": []
    },
    {
      "cell_type": "code",
      "metadata": {
        "id": "oPWJTGxfyaaX"
      },
      "source": [
        "list(dicoAdresses.keys())"
      ],
      "execution_count": null,
      "outputs": []
    },
    {
      "cell_type": "markdown",
      "metadata": {
        "id": "gxpUaVGLydZw"
      },
      "source": [
        "### Compréhensions de listes\n",
        " Les compréhensions de listes sont des \"boucles simplifiées\" dont l'objectif est de construire des listes.\n",
        " \n",
        " Elles sont proches du formalisme mathématique et permettent donc une écriture claire et concise."
      ]
    },
    {
      "cell_type": "code",
      "metadata": {
        "id": "_fQR-KKbyh0R"
      },
      "source": [
        "lstPairs = [x for x in range(20) if x%2==0]\n",
        "lstPairs"
      ],
      "execution_count": null,
      "outputs": []
    },
    {
      "cell_type": "code",
      "metadata": {
        "id": "3-fLN2BjyoxI"
      },
      "source": [
        "triangSup = [(x, y) for x in range(5) for y in range(5) if x>y]\n",
        "triangSup"
      ],
      "execution_count": null,
      "outputs": []
    },
    {
      "cell_type": "markdown",
      "metadata": {
        "id": "3I9U7wyoyxvS"
      },
      "source": [
        "## Fonctions\n",
        " Une fonction est une partie d'un traitement que l'on veut pouvoir réutiliser.\n",
        "\n",
        " Elle peut avoir des paramètres qui peuvent être des indications sur le traitement à effectuer, ou des données sur lesquelles effectuer le traitement.\n",
        " \n",
        " Elle peut retourner un ou plusieurs résultats."
      ]
    },
    {
      "cell_type": "markdown",
      "metadata": {
        "id": "JkaKsGBozDoF"
      },
      "source": [
        "Une fonction sans paramètres et sans résultat"
      ]
    },
    {
      "cell_type": "code",
      "metadata": {
        "id": "nWKjZEqey2iB"
      },
      "source": [
        "def afficheCoucou(): # définition de la fonction\n",
        "    print(\"Coucou!\")"
      ],
      "execution_count": null,
      "outputs": []
    },
    {
      "cell_type": "code",
      "metadata": {
        "id": "0J2GvjtSy83f"
      },
      "source": [
        "afficheCoucou()  # appel de la fonction"
      ],
      "execution_count": null,
      "outputs": []
    },
    {
      "cell_type": "markdown",
      "metadata": {
        "id": "RIbvW4mtzFfu"
      },
      "source": [
        "Une fonction avec des paramètres mais sans résultat"
      ]
    },
    {
      "cell_type": "code",
      "metadata": {
        "id": "iUtbF690zI--"
      },
      "source": [
        "def ditBonjour(prenom):\n",
        "    print(f\"Bonjour {prenom} !\")"
      ],
      "execution_count": null,
      "outputs": []
    },
    {
      "cell_type": "code",
      "metadata": {
        "id": "QS4IhPt5zSJ_"
      },
      "source": [
        "ditBonjour('Alice')\n",
        "ditBonjour('Bob')"
      ],
      "execution_count": null,
      "outputs": []
    },
    {
      "cell_type": "code",
      "metadata": {
        "id": "QQ5voxCbzYxJ"
      },
      "source": [
        "ditBonjour('Alice', 'Bob')"
      ],
      "execution_count": null,
      "outputs": []
    },
    {
      "cell_type": "code",
      "metadata": {
        "id": "FipucK9zzd1Z"
      },
      "source": [
        "ditBonjour(123)"
      ],
      "execution_count": null,
      "outputs": []
    },
    {
      "cell_type": "code",
      "metadata": {
        "id": "u4SAk445zpX9"
      },
      "source": [
        "def ditBonjour2(prenom):\n",
        "    if (type(prenom)==str): # type(x) renvoie le type d'un objet. str = chaîne de charactères\n",
        "        print(f\"Bonjour {prenom} !\")\n",
        "    else:\n",
        "        print(\"Bonjour !\")"
      ],
      "execution_count": null,
      "outputs": []
    },
    {
      "cell_type": "code",
      "metadata": {
        "id": "GvhqZcwfztDP"
      },
      "source": [
        "ditBonjour2('Alice')\n",
        "ditBonjour2(123)\n",
        "ditBonjour2(True)"
      ],
      "execution_count": null,
      "outputs": []
    },
    {
      "cell_type": "markdown",
      "metadata": {
        "id": "9G1urLqvzzF9"
      },
      "source": [
        "Une fonction qui traite une donnée d'entrée pour renvoyer un résultat en sortie"
      ]
    },
    {
      "cell_type": "code",
      "metadata": {
        "id": "vA2kjwhQzz2S"
      },
      "source": [
        "import string\n",
        "def nbConsonnes(chaine):\n",
        "    consonnes = set(string.ascii_lowercase) - set('aeiou')\n",
        "    return len([c for c in chaine.lower() if c in consonnes])"
      ],
      "execution_count": 21,
      "outputs": []
    },
    {
      "cell_type": "code",
      "metadata": {
        "id": "01FOvIqwz5aK"
      },
      "source": [
        "nbConsonnes('ALice')"
      ],
      "execution_count": null,
      "outputs": []
    },
    {
      "cell_type": "markdown",
      "metadata": {
        "id": "cxCwYsHb0Ipy"
      },
      "source": [
        "Une fonction qui traite une donnée d'entrée pour renvoyer deux résultats en sortie"
      ]
    },
    {
      "cell_type": "code",
      "metadata": {
        "id": "97k2sFgI0Jam"
      },
      "source": [
        "def nbConsonnesEtVoyelles(chaine):\n",
        "    nbConso = nbConsonnes(chaine)\n",
        "    return nbConso, len(chaine) - nbConso"
      ],
      "execution_count": null,
      "outputs": []
    },
    {
      "cell_type": "code",
      "metadata": {
        "id": "yZaIQFnW0Pse"
      },
      "source": [
        "c,v = nbConsonnesEtVoyelles('Alice')\n",
        "print(f\"({c},{v})\")"
      ],
      "execution_count": null,
      "outputs": []
    },
    {
      "cell_type": "code",
      "metadata": {
        "id": "oq-MpVMv0S-T"
      },
      "source": [
        "truc = nbConsonnesEtVoyelles('Alice')\n",
        "truc[1]"
      ],
      "execution_count": null,
      "outputs": []
    },
    {
      "cell_type": "code",
      "metadata": {
        "id": "UuMiD_KK0XGG"
      },
      "source": [
        "nbConsonnesEtVoyelles('Alice')[1]"
      ],
      "execution_count": null,
      "outputs": []
    },
    {
      "cell_type": "markdown",
      "metadata": {
        "id": "A5pkuf-u0bTb"
      },
      "source": [
        "Une fonction qui modifie ses paramètres.\n",
        "\n",
        "Cela ne marche qu'avec des paramètres étant des structures de données **mutables** (listes, set, dictionnaires...)"
      ]
    },
    {
      "cell_type": "code",
      "metadata": {
        "id": "GT2zsa8d0h10"
      },
      "source": [
        "lstCaracteres = list('alice') # ['a', 'l', 'i', 'c', 'e']\n",
        "\n",
        "def miseEnMajuscules(lst):\n",
        "    for i in range(len(lst)): # ici on doit passer par les indices\n",
        "        lst[i] = lst[i].upper()\n",
        "\n",
        "miseEnMajuscules(lstCaracteres)\n",
        "lstCaracteres"
      ],
      "execution_count": null,
      "outputs": []
    },
    {
      "cell_type": "markdown",
      "metadata": {
        "id": "vlL1wGl60wVU"
      },
      "source": [
        "## Portée des variables\n",
        " Une variable définie dans une fonction (ex: `nbConso` ci-dessus) est dite locale.\n",
        " \n",
        " Elle est \"invisible\" ailleurs que dans cette fonction:"
      ]
    }
  ]
}